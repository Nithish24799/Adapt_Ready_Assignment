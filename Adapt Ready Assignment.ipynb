{
 "cells": [
  {
   "cell_type": "code",
   "execution_count": 19,
   "id": "b329a8a0",
   "metadata": {},
   "outputs": [],
   "source": [
    "import pandas as pd\n",
    "import requests\n",
    "import zipfile\n",
    "import io\n",
    "import datetime as dt\n",
    "import matplotlib.pyplot as plt\n",
    "import seaborn as sns"
   ]
  },
  {
   "cell_type": "markdown",
   "id": "0339cc7a",
   "metadata": {},
   "source": [
    "# Question 1"
   ]
  },
  {
   "cell_type": "markdown",
   "id": "f6651936",
   "metadata": {},
   "source": [
    "# Approach 1 - Get the url and using zipfile library we can directly unzip and extract all the file in the zip folder"
   ]
  },
  {
   "cell_type": "code",
   "execution_count": 3,
   "id": "b6f133c6",
   "metadata": {},
   "outputs": [],
   "source": [
    "# url = 'https://files.consumerfinance.gov/ccdb/complaints.csv.zip'\n",
    "# response = requests.get(url)\n",
    "\n",
    "# # Step 2: Extract the zip file\n",
    "# with zipfile.ZipFile(io.BytesIO(response.content)) as thezip:\n",
    "#     thezip.extractall()\n",
    "# df = pd.read_csv('complaints.csv')"
   ]
  },
  {
   "cell_type": "markdown",
   "id": "23da68dd",
   "metadata": {},
   "source": [
    "# Approach 2 - Downloading zip file and reading the csv file"
   ]
  },
  {
   "cell_type": "code",
   "execution_count": 4,
   "id": "743b1324",
   "metadata": {},
   "outputs": [
    {
     "name": "stderr",
     "output_type": "stream",
     "text": [
      "C:\\Users\\nithishsha\\AppData\\Local\\Temp\\ipykernel_14040\\3510204512.py:2: DtypeWarning: Columns (16) have mixed types. Specify dtype option on import or set low_memory=False.\n",
      "  df = pd.read_csv('complaints.csv')\n"
     ]
    }
   ],
   "source": [
    "#Read a csv File\n",
    "df = pd.read_csv('complaints.csv')"
   ]
  },
  {
   "cell_type": "code",
   "execution_count": 5,
   "id": "69ea5fde",
   "metadata": {},
   "outputs": [
    {
     "data": {
      "text/html": [
       "<div>\n",
       "<style scoped>\n",
       "    .dataframe tbody tr th:only-of-type {\n",
       "        vertical-align: middle;\n",
       "    }\n",
       "\n",
       "    .dataframe tbody tr th {\n",
       "        vertical-align: top;\n",
       "    }\n",
       "\n",
       "    .dataframe thead th {\n",
       "        text-align: right;\n",
       "    }\n",
       "</style>\n",
       "<table border=\"1\" class=\"dataframe\">\n",
       "  <thead>\n",
       "    <tr style=\"text-align: right;\">\n",
       "      <th></th>\n",
       "      <th>Date received</th>\n",
       "      <th>Product</th>\n",
       "      <th>Sub-product</th>\n",
       "      <th>Issue</th>\n",
       "      <th>Sub-issue</th>\n",
       "      <th>Consumer complaint narrative</th>\n",
       "      <th>Company public response</th>\n",
       "      <th>Company</th>\n",
       "      <th>State</th>\n",
       "      <th>ZIP code</th>\n",
       "      <th>Tags</th>\n",
       "      <th>Consumer consent provided?</th>\n",
       "      <th>Submitted via</th>\n",
       "      <th>Date sent to company</th>\n",
       "      <th>Company response to consumer</th>\n",
       "      <th>Timely response?</th>\n",
       "      <th>Consumer disputed?</th>\n",
       "      <th>Complaint ID</th>\n",
       "    </tr>\n",
       "  </thead>\n",
       "  <tbody>\n",
       "    <tr>\n",
       "      <th>0</th>\n",
       "      <td>2024-03-13</td>\n",
       "      <td>Credit card</td>\n",
       "      <td>General-purpose credit card or charge card</td>\n",
       "      <td>Advertising and marketing, including promotion...</td>\n",
       "      <td>Didn't receive advertised or promotional terms</td>\n",
       "      <td>I formally request the removal of an inaccurat...</td>\n",
       "      <td>NaN</td>\n",
       "      <td>EQUIFAX, INC.</td>\n",
       "      <td>MO</td>\n",
       "      <td>631XX</td>\n",
       "      <td>NaN</td>\n",
       "      <td>Consent provided</td>\n",
       "      <td>Web</td>\n",
       "      <td>2024-03-13</td>\n",
       "      <td>Closed with non-monetary relief</td>\n",
       "      <td>Yes</td>\n",
       "      <td>NaN</td>\n",
       "      <td>8538710</td>\n",
       "    </tr>\n",
       "    <tr>\n",
       "      <th>1</th>\n",
       "      <td>2024-03-14</td>\n",
       "      <td>Credit reporting or other personal consumer re...</td>\n",
       "      <td>Credit reporting</td>\n",
       "      <td>Incorrect information on your report</td>\n",
       "      <td>Information belongs to someone else</td>\n",
       "      <td>NaN</td>\n",
       "      <td>NaN</td>\n",
       "      <td>EQUIFAX, INC.</td>\n",
       "      <td>PA</td>\n",
       "      <td>19142</td>\n",
       "      <td>NaN</td>\n",
       "      <td>Consent not provided</td>\n",
       "      <td>Web</td>\n",
       "      <td>2024-03-14</td>\n",
       "      <td>Closed with non-monetary relief</td>\n",
       "      <td>Yes</td>\n",
       "      <td>NaN</td>\n",
       "      <td>8551289</td>\n",
       "    </tr>\n",
       "    <tr>\n",
       "      <th>2</th>\n",
       "      <td>2023-10-25</td>\n",
       "      <td>Credit reporting or other personal consumer re...</td>\n",
       "      <td>Credit reporting</td>\n",
       "      <td>Improper use of your report</td>\n",
       "      <td>Reporting company used your report improperly</td>\n",
       "      <td>NaN</td>\n",
       "      <td>Company has responded to the consumer and the ...</td>\n",
       "      <td>TRANSUNION INTERMEDIATE HOLDINGS, INC.</td>\n",
       "      <td>CA</td>\n",
       "      <td>92114</td>\n",
       "      <td>NaN</td>\n",
       "      <td>Consent not provided</td>\n",
       "      <td>Web</td>\n",
       "      <td>2023-10-25</td>\n",
       "      <td>Closed with explanation</td>\n",
       "      <td>Yes</td>\n",
       "      <td>NaN</td>\n",
       "      <td>7755832</td>\n",
       "    </tr>\n",
       "    <tr>\n",
       "      <th>3</th>\n",
       "      <td>2023-10-25</td>\n",
       "      <td>Mortgage</td>\n",
       "      <td>FHA mortgage</td>\n",
       "      <td>Struggling to pay mortgage</td>\n",
       "      <td>An existing modification, forbearance plan, sh...</td>\n",
       "      <td>NaN</td>\n",
       "      <td>Company has responded to the consumer and the ...</td>\n",
       "      <td>Specialized Loan Servicing Holdings LLC</td>\n",
       "      <td>CA</td>\n",
       "      <td>956XX</td>\n",
       "      <td>NaN</td>\n",
       "      <td>Other</td>\n",
       "      <td>Web</td>\n",
       "      <td>2023-10-25</td>\n",
       "      <td>Closed with explanation</td>\n",
       "      <td>Yes</td>\n",
       "      <td>NaN</td>\n",
       "      <td>7753166</td>\n",
       "    </tr>\n",
       "    <tr>\n",
       "      <th>4</th>\n",
       "      <td>2024-05-02</td>\n",
       "      <td>Money transfer, virtual currency, or money ser...</td>\n",
       "      <td>Domestic (US) money transfer</td>\n",
       "      <td>Money was not available when promised</td>\n",
       "      <td>NaN</td>\n",
       "      <td>NaN</td>\n",
       "      <td>NaN</td>\n",
       "      <td>Sigue Corp.</td>\n",
       "      <td>TX</td>\n",
       "      <td>78644</td>\n",
       "      <td>NaN</td>\n",
       "      <td>Other</td>\n",
       "      <td>Web</td>\n",
       "      <td>2024-05-02</td>\n",
       "      <td>In progress</td>\n",
       "      <td>Yes</td>\n",
       "      <td>NaN</td>\n",
       "      <td>8916876</td>\n",
       "    </tr>\n",
       "  </tbody>\n",
       "</table>\n",
       "</div>"
      ],
      "text/plain": [
       "  Date received                                            Product  \\\n",
       "0    2024-03-13                                        Credit card   \n",
       "1    2024-03-14  Credit reporting or other personal consumer re...   \n",
       "2    2023-10-25  Credit reporting or other personal consumer re...   \n",
       "3    2023-10-25                                           Mortgage   \n",
       "4    2024-05-02  Money transfer, virtual currency, or money ser...   \n",
       "\n",
       "                                  Sub-product  \\\n",
       "0  General-purpose credit card or charge card   \n",
       "1                            Credit reporting   \n",
       "2                            Credit reporting   \n",
       "3                                FHA mortgage   \n",
       "4                Domestic (US) money transfer   \n",
       "\n",
       "                                               Issue  \\\n",
       "0  Advertising and marketing, including promotion...   \n",
       "1               Incorrect information on your report   \n",
       "2                        Improper use of your report   \n",
       "3                         Struggling to pay mortgage   \n",
       "4              Money was not available when promised   \n",
       "\n",
       "                                           Sub-issue  \\\n",
       "0     Didn't receive advertised or promotional terms   \n",
       "1                Information belongs to someone else   \n",
       "2      Reporting company used your report improperly   \n",
       "3  An existing modification, forbearance plan, sh...   \n",
       "4                                                NaN   \n",
       "\n",
       "                        Consumer complaint narrative  \\\n",
       "0  I formally request the removal of an inaccurat...   \n",
       "1                                                NaN   \n",
       "2                                                NaN   \n",
       "3                                                NaN   \n",
       "4                                                NaN   \n",
       "\n",
       "                             Company public response  \\\n",
       "0                                                NaN   \n",
       "1                                                NaN   \n",
       "2  Company has responded to the consumer and the ...   \n",
       "3  Company has responded to the consumer and the ...   \n",
       "4                                                NaN   \n",
       "\n",
       "                                   Company State ZIP code Tags  \\\n",
       "0                            EQUIFAX, INC.    MO    631XX  NaN   \n",
       "1                            EQUIFAX, INC.    PA    19142  NaN   \n",
       "2   TRANSUNION INTERMEDIATE HOLDINGS, INC.    CA    92114  NaN   \n",
       "3  Specialized Loan Servicing Holdings LLC    CA    956XX  NaN   \n",
       "4                              Sigue Corp.    TX    78644  NaN   \n",
       "\n",
       "  Consumer consent provided? Submitted via Date sent to company  \\\n",
       "0           Consent provided           Web           2024-03-13   \n",
       "1       Consent not provided           Web           2024-03-14   \n",
       "2       Consent not provided           Web           2023-10-25   \n",
       "3                      Other           Web           2023-10-25   \n",
       "4                      Other           Web           2024-05-02   \n",
       "\n",
       "      Company response to consumer Timely response? Consumer disputed?  \\\n",
       "0  Closed with non-monetary relief              Yes                NaN   \n",
       "1  Closed with non-monetary relief              Yes                NaN   \n",
       "2          Closed with explanation              Yes                NaN   \n",
       "3          Closed with explanation              Yes                NaN   \n",
       "4                      In progress              Yes                NaN   \n",
       "\n",
       "   Complaint ID  \n",
       "0       8538710  \n",
       "1       8551289  \n",
       "2       7755832  \n",
       "3       7753166  \n",
       "4       8916876  "
      ]
     },
     "execution_count": 5,
     "metadata": {},
     "output_type": "execute_result"
    }
   ],
   "source": [
    "df.head()# Top 5 rows"
   ]
  },
  {
   "cell_type": "code",
   "execution_count": 6,
   "id": "5d8c0a03",
   "metadata": {},
   "outputs": [
    {
     "data": {
      "text/plain": [
       "(5243000, 18)"
      ]
     },
     "execution_count": 6,
     "metadata": {},
     "output_type": "execute_result"
    }
   ],
   "source": [
    "df.shape #Row and Column Count"
   ]
  },
  {
   "cell_type": "code",
   "execution_count": 7,
   "id": "07adae72",
   "metadata": {},
   "outputs": [
    {
     "data": {
      "text/html": [
       "<div>\n",
       "<style scoped>\n",
       "    .dataframe tbody tr th:only-of-type {\n",
       "        vertical-align: middle;\n",
       "    }\n",
       "\n",
       "    .dataframe tbody tr th {\n",
       "        vertical-align: top;\n",
       "    }\n",
       "\n",
       "    .dataframe thead th {\n",
       "        text-align: right;\n",
       "    }\n",
       "</style>\n",
       "<table border=\"1\" class=\"dataframe\">\n",
       "  <thead>\n",
       "    <tr style=\"text-align: right;\">\n",
       "      <th></th>\n",
       "      <th>Date received</th>\n",
       "      <th>Product</th>\n",
       "      <th>Sub-product</th>\n",
       "      <th>Issue</th>\n",
       "      <th>Sub-issue</th>\n",
       "      <th>Consumer complaint narrative</th>\n",
       "      <th>Company public response</th>\n",
       "      <th>Company</th>\n",
       "      <th>State</th>\n",
       "      <th>ZIP code</th>\n",
       "      <th>Tags</th>\n",
       "      <th>Consumer consent provided?</th>\n",
       "      <th>Submitted via</th>\n",
       "      <th>Date sent to company</th>\n",
       "      <th>Company response to consumer</th>\n",
       "      <th>Timely response?</th>\n",
       "      <th>Consumer disputed?</th>\n",
       "      <th>Complaint ID</th>\n",
       "    </tr>\n",
       "  </thead>\n",
       "  <tbody>\n",
       "    <tr>\n",
       "      <th>count</th>\n",
       "      <td>5243000</td>\n",
       "      <td>5243000</td>\n",
       "      <td>5007708</td>\n",
       "      <td>5242997</td>\n",
       "      <td>4506836</td>\n",
       "      <td>1836713</td>\n",
       "      <td>2513137</td>\n",
       "      <td>5243000</td>\n",
       "      <td>5197220</td>\n",
       "      <td>5212775</td>\n",
       "      <td>485917</td>\n",
       "      <td>4201464</td>\n",
       "      <td>5243000</td>\n",
       "      <td>5243000</td>\n",
       "      <td>5242985</td>\n",
       "      <td>5243000</td>\n",
       "      <td>768316</td>\n",
       "      <td>5.243000e+06</td>\n",
       "    </tr>\n",
       "    <tr>\n",
       "      <th>unique</th>\n",
       "      <td>4550</td>\n",
       "      <td>21</td>\n",
       "      <td>86</td>\n",
       "      <td>178</td>\n",
       "      <td>272</td>\n",
       "      <td>1492267</td>\n",
       "      <td>11</td>\n",
       "      <td>7220</td>\n",
       "      <td>63</td>\n",
       "      <td>33657</td>\n",
       "      <td>3</td>\n",
       "      <td>4</td>\n",
       "      <td>7</td>\n",
       "      <td>4499</td>\n",
       "      <td>8</td>\n",
       "      <td>2</td>\n",
       "      <td>2</td>\n",
       "      <td>NaN</td>\n",
       "    </tr>\n",
       "    <tr>\n",
       "      <th>top</th>\n",
       "      <td>2024-04-24</td>\n",
       "      <td>Credit reporting, credit repair services, or o...</td>\n",
       "      <td>Credit reporting</td>\n",
       "      <td>Incorrect information on your report</td>\n",
       "      <td>Information belongs to someone else</td>\n",
       "      <td>In accordance with the Fair Credit Reporting a...</td>\n",
       "      <td>Company has responded to the consumer and the ...</td>\n",
       "      <td>EQUIFAX, INC.</td>\n",
       "      <td>FL</td>\n",
       "      <td>XXXXX</td>\n",
       "      <td>Servicemember</td>\n",
       "      <td>Consent not provided</td>\n",
       "      <td>Web</td>\n",
       "      <td>2024-04-24</td>\n",
       "      <td>Closed with explanation</td>\n",
       "      <td>Yes</td>\n",
       "      <td>No</td>\n",
       "      <td>NaN</td>\n",
       "    </tr>\n",
       "    <tr>\n",
       "      <th>freq</th>\n",
       "      <td>8214</td>\n",
       "      <td>2163876</td>\n",
       "      <td>3160931</td>\n",
       "      <td>1534862</td>\n",
       "      <td>1017156</td>\n",
       "      <td>7356</td>\n",
       "      <td>2262898</td>\n",
       "      <td>1094863</td>\n",
       "      <td>629941</td>\n",
       "      <td>120483</td>\n",
       "      <td>286553</td>\n",
       "      <td>2099875</td>\n",
       "      <td>4690912</td>\n",
       "      <td>8252</td>\n",
       "      <td>3473372</td>\n",
       "      <td>5184323</td>\n",
       "      <td>619938</td>\n",
       "      <td>NaN</td>\n",
       "    </tr>\n",
       "    <tr>\n",
       "      <th>mean</th>\n",
       "      <td>NaN</td>\n",
       "      <td>NaN</td>\n",
       "      <td>NaN</td>\n",
       "      <td>NaN</td>\n",
       "      <td>NaN</td>\n",
       "      <td>NaN</td>\n",
       "      <td>NaN</td>\n",
       "      <td>NaN</td>\n",
       "      <td>NaN</td>\n",
       "      <td>NaN</td>\n",
       "      <td>NaN</td>\n",
       "      <td>NaN</td>\n",
       "      <td>NaN</td>\n",
       "      <td>NaN</td>\n",
       "      <td>NaN</td>\n",
       "      <td>NaN</td>\n",
       "      <td>NaN</td>\n",
       "      <td>5.206961e+06</td>\n",
       "    </tr>\n",
       "    <tr>\n",
       "      <th>std</th>\n",
       "      <td>NaN</td>\n",
       "      <td>NaN</td>\n",
       "      <td>NaN</td>\n",
       "      <td>NaN</td>\n",
       "      <td>NaN</td>\n",
       "      <td>NaN</td>\n",
       "      <td>NaN</td>\n",
       "      <td>NaN</td>\n",
       "      <td>NaN</td>\n",
       "      <td>NaN</td>\n",
       "      <td>NaN</td>\n",
       "      <td>NaN</td>\n",
       "      <td>NaN</td>\n",
       "      <td>NaN</td>\n",
       "      <td>NaN</td>\n",
       "      <td>NaN</td>\n",
       "      <td>NaN</td>\n",
       "      <td>2.434952e+06</td>\n",
       "    </tr>\n",
       "    <tr>\n",
       "      <th>min</th>\n",
       "      <td>NaN</td>\n",
       "      <td>NaN</td>\n",
       "      <td>NaN</td>\n",
       "      <td>NaN</td>\n",
       "      <td>NaN</td>\n",
       "      <td>NaN</td>\n",
       "      <td>NaN</td>\n",
       "      <td>NaN</td>\n",
       "      <td>NaN</td>\n",
       "      <td>NaN</td>\n",
       "      <td>NaN</td>\n",
       "      <td>NaN</td>\n",
       "      <td>NaN</td>\n",
       "      <td>NaN</td>\n",
       "      <td>NaN</td>\n",
       "      <td>NaN</td>\n",
       "      <td>NaN</td>\n",
       "      <td>1.000000e+00</td>\n",
       "    </tr>\n",
       "    <tr>\n",
       "      <th>25%</th>\n",
       "      <td>NaN</td>\n",
       "      <td>NaN</td>\n",
       "      <td>NaN</td>\n",
       "      <td>NaN</td>\n",
       "      <td>NaN</td>\n",
       "      <td>NaN</td>\n",
       "      <td>NaN</td>\n",
       "      <td>NaN</td>\n",
       "      <td>NaN</td>\n",
       "      <td>NaN</td>\n",
       "      <td>NaN</td>\n",
       "      <td>NaN</td>\n",
       "      <td>NaN</td>\n",
       "      <td>NaN</td>\n",
       "      <td>NaN</td>\n",
       "      <td>NaN</td>\n",
       "      <td>NaN</td>\n",
       "      <td>3.268433e+06</td>\n",
       "    </tr>\n",
       "    <tr>\n",
       "      <th>50%</th>\n",
       "      <td>NaN</td>\n",
       "      <td>NaN</td>\n",
       "      <td>NaN</td>\n",
       "      <td>NaN</td>\n",
       "      <td>NaN</td>\n",
       "      <td>NaN</td>\n",
       "      <td>NaN</td>\n",
       "      <td>NaN</td>\n",
       "      <td>NaN</td>\n",
       "      <td>NaN</td>\n",
       "      <td>NaN</td>\n",
       "      <td>NaN</td>\n",
       "      <td>NaN</td>\n",
       "      <td>NaN</td>\n",
       "      <td>NaN</td>\n",
       "      <td>NaN</td>\n",
       "      <td>NaN</td>\n",
       "      <td>5.465787e+06</td>\n",
       "    </tr>\n",
       "    <tr>\n",
       "      <th>75%</th>\n",
       "      <td>NaN</td>\n",
       "      <td>NaN</td>\n",
       "      <td>NaN</td>\n",
       "      <td>NaN</td>\n",
       "      <td>NaN</td>\n",
       "      <td>NaN</td>\n",
       "      <td>NaN</td>\n",
       "      <td>NaN</td>\n",
       "      <td>NaN</td>\n",
       "      <td>NaN</td>\n",
       "      <td>NaN</td>\n",
       "      <td>NaN</td>\n",
       "      <td>NaN</td>\n",
       "      <td>NaN</td>\n",
       "      <td>NaN</td>\n",
       "      <td>NaN</td>\n",
       "      <td>NaN</td>\n",
       "      <td>7.347795e+06</td>\n",
       "    </tr>\n",
       "    <tr>\n",
       "      <th>max</th>\n",
       "      <td>NaN</td>\n",
       "      <td>NaN</td>\n",
       "      <td>NaN</td>\n",
       "      <td>NaN</td>\n",
       "      <td>NaN</td>\n",
       "      <td>NaN</td>\n",
       "      <td>NaN</td>\n",
       "      <td>NaN</td>\n",
       "      <td>NaN</td>\n",
       "      <td>NaN</td>\n",
       "      <td>NaN</td>\n",
       "      <td>NaN</td>\n",
       "      <td>NaN</td>\n",
       "      <td>NaN</td>\n",
       "      <td>NaN</td>\n",
       "      <td>NaN</td>\n",
       "      <td>NaN</td>\n",
       "      <td>9.030122e+06</td>\n",
       "    </tr>\n",
       "  </tbody>\n",
       "</table>\n",
       "</div>"
      ],
      "text/plain": [
       "       Date received                                            Product  \\\n",
       "count        5243000                                            5243000   \n",
       "unique          4550                                                 21   \n",
       "top       2024-04-24  Credit reporting, credit repair services, or o...   \n",
       "freq            8214                                            2163876   \n",
       "mean             NaN                                                NaN   \n",
       "std              NaN                                                NaN   \n",
       "min              NaN                                                NaN   \n",
       "25%              NaN                                                NaN   \n",
       "50%              NaN                                                NaN   \n",
       "75%              NaN                                                NaN   \n",
       "max              NaN                                                NaN   \n",
       "\n",
       "             Sub-product                                 Issue  \\\n",
       "count            5007708                               5242997   \n",
       "unique                86                                   178   \n",
       "top     Credit reporting  Incorrect information on your report   \n",
       "freq             3160931                               1534862   \n",
       "mean                 NaN                                   NaN   \n",
       "std                  NaN                                   NaN   \n",
       "min                  NaN                                   NaN   \n",
       "25%                  NaN                                   NaN   \n",
       "50%                  NaN                                   NaN   \n",
       "75%                  NaN                                   NaN   \n",
       "max                  NaN                                   NaN   \n",
       "\n",
       "                                  Sub-issue  \\\n",
       "count                               4506836   \n",
       "unique                                  272   \n",
       "top     Information belongs to someone else   \n",
       "freq                                1017156   \n",
       "mean                                    NaN   \n",
       "std                                     NaN   \n",
       "min                                     NaN   \n",
       "25%                                     NaN   \n",
       "50%                                     NaN   \n",
       "75%                                     NaN   \n",
       "max                                     NaN   \n",
       "\n",
       "                             Consumer complaint narrative  \\\n",
       "count                                             1836713   \n",
       "unique                                            1492267   \n",
       "top     In accordance with the Fair Credit Reporting a...   \n",
       "freq                                                 7356   \n",
       "mean                                                  NaN   \n",
       "std                                                   NaN   \n",
       "min                                                   NaN   \n",
       "25%                                                   NaN   \n",
       "50%                                                   NaN   \n",
       "75%                                                   NaN   \n",
       "max                                                   NaN   \n",
       "\n",
       "                                  Company public response        Company  \\\n",
       "count                                             2513137        5243000   \n",
       "unique                                                 11           7220   \n",
       "top     Company has responded to the consumer and the ...  EQUIFAX, INC.   \n",
       "freq                                              2262898        1094863   \n",
       "mean                                                  NaN            NaN   \n",
       "std                                                   NaN            NaN   \n",
       "min                                                   NaN            NaN   \n",
       "25%                                                   NaN            NaN   \n",
       "50%                                                   NaN            NaN   \n",
       "75%                                                   NaN            NaN   \n",
       "max                                                   NaN            NaN   \n",
       "\n",
       "          State ZIP code           Tags Consumer consent provided?  \\\n",
       "count   5197220  5212775         485917                    4201464   \n",
       "unique       63    33657              3                          4   \n",
       "top          FL    XXXXX  Servicemember       Consent not provided   \n",
       "freq     629941   120483         286553                    2099875   \n",
       "mean        NaN      NaN            NaN                        NaN   \n",
       "std         NaN      NaN            NaN                        NaN   \n",
       "min         NaN      NaN            NaN                        NaN   \n",
       "25%         NaN      NaN            NaN                        NaN   \n",
       "50%         NaN      NaN            NaN                        NaN   \n",
       "75%         NaN      NaN            NaN                        NaN   \n",
       "max         NaN      NaN            NaN                        NaN   \n",
       "\n",
       "       Submitted via Date sent to company Company response to consumer  \\\n",
       "count        5243000              5243000                      5242985   \n",
       "unique             7                 4499                            8   \n",
       "top              Web           2024-04-24      Closed with explanation   \n",
       "freq         4690912                 8252                      3473372   \n",
       "mean             NaN                  NaN                          NaN   \n",
       "std              NaN                  NaN                          NaN   \n",
       "min              NaN                  NaN                          NaN   \n",
       "25%              NaN                  NaN                          NaN   \n",
       "50%              NaN                  NaN                          NaN   \n",
       "75%              NaN                  NaN                          NaN   \n",
       "max              NaN                  NaN                          NaN   \n",
       "\n",
       "       Timely response? Consumer disputed?  Complaint ID  \n",
       "count           5243000             768316  5.243000e+06  \n",
       "unique                2                  2           NaN  \n",
       "top                 Yes                 No           NaN  \n",
       "freq            5184323             619938           NaN  \n",
       "mean                NaN                NaN  5.206961e+06  \n",
       "std                 NaN                NaN  2.434952e+06  \n",
       "min                 NaN                NaN  1.000000e+00  \n",
       "25%                 NaN                NaN  3.268433e+06  \n",
       "50%                 NaN                NaN  5.465787e+06  \n",
       "75%                 NaN                NaN  7.347795e+06  \n",
       "max                 NaN                NaN  9.030122e+06  "
      ]
     },
     "execution_count": 7,
     "metadata": {},
     "output_type": "execute_result"
    }
   ],
   "source": [
    "df.describe(include=\"all\")#summary statistics"
   ]
  },
  {
   "cell_type": "code",
   "execution_count": 8,
   "id": "25a7f526",
   "metadata": {},
   "outputs": [
    {
     "data": {
      "text/html": [
       "<div>\n",
       "<style scoped>\n",
       "    .dataframe tbody tr th:only-of-type {\n",
       "        vertical-align: middle;\n",
       "    }\n",
       "\n",
       "    .dataframe tbody tr th {\n",
       "        vertical-align: top;\n",
       "    }\n",
       "\n",
       "    .dataframe thead th {\n",
       "        text-align: right;\n",
       "    }\n",
       "</style>\n",
       "<table border=\"1\" class=\"dataframe\">\n",
       "  <thead>\n",
       "    <tr style=\"text-align: right;\">\n",
       "      <th></th>\n",
       "      <th>Complaint ID</th>\n",
       "    </tr>\n",
       "  </thead>\n",
       "  <tbody>\n",
       "    <tr>\n",
       "      <th>count</th>\n",
       "      <td>5.243000e+06</td>\n",
       "    </tr>\n",
       "    <tr>\n",
       "      <th>mean</th>\n",
       "      <td>5.206961e+06</td>\n",
       "    </tr>\n",
       "    <tr>\n",
       "      <th>std</th>\n",
       "      <td>2.434952e+06</td>\n",
       "    </tr>\n",
       "    <tr>\n",
       "      <th>min</th>\n",
       "      <td>1.000000e+00</td>\n",
       "    </tr>\n",
       "    <tr>\n",
       "      <th>25%</th>\n",
       "      <td>3.268433e+06</td>\n",
       "    </tr>\n",
       "    <tr>\n",
       "      <th>50%</th>\n",
       "      <td>5.465787e+06</td>\n",
       "    </tr>\n",
       "    <tr>\n",
       "      <th>75%</th>\n",
       "      <td>7.347795e+06</td>\n",
       "    </tr>\n",
       "    <tr>\n",
       "      <th>max</th>\n",
       "      <td>9.030122e+06</td>\n",
       "    </tr>\n",
       "  </tbody>\n",
       "</table>\n",
       "</div>"
      ],
      "text/plain": [
       "       Complaint ID\n",
       "count  5.243000e+06\n",
       "mean   5.206961e+06\n",
       "std    2.434952e+06\n",
       "min    1.000000e+00\n",
       "25%    3.268433e+06\n",
       "50%    5.465787e+06\n",
       "75%    7.347795e+06\n",
       "max    9.030122e+06"
      ]
     },
     "execution_count": 8,
     "metadata": {},
     "output_type": "execute_result"
    }
   ],
   "source": [
    "df.describe()#Numerical summary statistics"
   ]
  },
  {
   "cell_type": "code",
   "execution_count": 9,
   "id": "86517fc7",
   "metadata": {},
   "outputs": [
    {
     "data": {
      "text/plain": [
       "Index(['Date received', 'Product', 'Sub-product', 'Issue', 'Sub-issue',\n",
       "       'Consumer complaint narrative', 'Company public response', 'Company',\n",
       "       'State', 'ZIP code', 'Tags', 'Consumer consent provided?',\n",
       "       'Submitted via', 'Date sent to company', 'Company response to consumer',\n",
       "       'Timely response?', 'Consumer disputed?', 'Complaint ID'],\n",
       "      dtype='object')"
      ]
     },
     "execution_count": 9,
     "metadata": {},
     "output_type": "execute_result"
    }
   ],
   "source": [
    "df.columns# Column Header"
   ]
  },
  {
   "cell_type": "code",
   "execution_count": 10,
   "id": "8e3c10c0",
   "metadata": {},
   "outputs": [],
   "source": [
    "#Product Count\n",
    "Product=df[\"Product\"].value_counts()\n",
    "#Sub-Product Count\n",
    "Sub_Product=df[\"Sub-product\"].value_counts()\n",
    "#State Count\n",
    "State=df[\"State\"].value_counts()"
   ]
  },
  {
   "cell_type": "markdown",
   "id": "ce93395c",
   "metadata": {},
   "source": [
    "# Vizualization"
   ]
  },
  {
   "cell_type": "code",
   "execution_count": 15,
   "id": "c89dbdbf",
   "metadata": {},
   "outputs": [
    {
     "data": {
      "image/png": "[encoded data removed]",
      "text/plain": [
       "<Figure size 720x720 with 1 Axes>"
      ]
     },
     "metadata": {
      "needs_background": "light"
     },
     "output_type": "display_data"
    }
   ],
   "source": [
    "Product=Product.head()\n",
    "# Plot the data\n",
    "plt.figure(figsize=(10, 10))\n",
    "Product.plot(kind='line',x='index', y='values')\n",
    "plt.title('Number of Count in Product')\n",
    "plt.xlabel('Product')# X-Axis\n",
    "plt.ylabel('Count')\n",
    "plt.xticks(rotation=45)\n",
    "plt.tight_layout()\n",
    "plt.show()"
   ]
  },
  {
   "cell_type": "code",
   "execution_count": 17,
   "id": "69dea013",
   "metadata": {
    "scrolled": true
   },
   "outputs": [
    {
     "data": {
      "image/png": "[encoded data removed]",
      "text/plain": [
       "<Figure size 720x720 with 1 Axes>"
      ]
     },
     "metadata": {
      "needs_background": "light"
     },
     "output_type": "display_data"
    }
   ],
   "source": [
    "Sub_Product=Sub_Product.head()\n",
    "plt.figure(figsize=(10, 10))\n",
    "plt.scatter(x=Sub_Product.index, y=Sub_Product.values)\n",
    "plt.title('Number of Count in Sub-Product')\n",
    "plt.xlabel('Sub-Product')\n",
    "plt.ylabel('Count')\n",
    "plt.xticks(rotation=45)\n",
    "plt.tight_layout()\n",
    "plt.show()"
   ]
  },
  {
   "cell_type": "code",
   "execution_count": 21,
   "id": "f71d0536",
   "metadata": {},
   "outputs": [
    {
     "data": {
      "text/plain": [
       "<Figure size 720x720 with 0 Axes>"
      ]
     },
     "metadata": {},
     "output_type": "display_data"
    },
    {
     "data": {
      "image/png": "[encoded data removed]",
      "text/plain": [
       "<Figure size 720x720 with 1 Axes>"
      ]
     },
     "metadata": {
      "needs_background": "light"
     },
     "output_type": "display_data"
    }
   ],
   "source": [
    "State=State.head()\n",
    "plt.figure(figsize=(10, 10))\n",
    "plt.figure(figsize=(10, 10))\n",
    "sns.scatterplot(data=State, x=State.index, y=State.values, hue='State', palette='Set1')\n",
    "plt.title('Number of Count in Product')\n",
    "plt.xlabel('State')\n",
    "plt.ylabel('Count')\n",
    "plt.xticks(rotation=45)\n",
    "plt.tight_layout()\n",
    "plt.show()"
   ]
  },
  {
   "cell_type": "code",
   "execution_count": 35,
   "id": "f454eb44",
   "metadata": {},
   "outputs": [],
   "source": [
    "#Write it in a excel\n",
    "with pd.ExcelWriter(\"Top_Compliant_on_Product_State.xlsx\")as writer:\n",
    "    Product.to_excel(writer,sheet_name=\"Product\",index=False)\n",
    "    Sub_Product.to_excel(writer,sheet_name=\"Sub-Product\",index=False)\n",
    "    State.to_excel(writer,sheet_name=\"State\",index=False)"
   ]
  },
  {
   "cell_type": "code",
   "execution_count": 36,
   "id": "a148ffc6",
   "metadata": {},
   "outputs": [
    {
     "data": {
      "image/png": "[encoded data removed]",
      "text/plain": [
       "<Figure size 720x432 with 1 Axes>"
      ]
     },
     "metadata": {
      "needs_background": "light"
     },
     "output_type": "display_data"
    }
   ],
   "source": [
    "# We Can Analysis which month the company get the Higher Compliant\n",
    "df[\"Month\"] =pd.to_datetime(df['Date sent to company']).dt.strftime(\"%B\")\n",
    "monthly_counts = df.groupby('Month')['Complaint ID'].count()\n",
    "\n",
    "# Plot the data\n",
    "plt.figure(figsize=(10, 6))\n",
    "monthly_counts.plot(kind='bar')\n",
    "\n",
    "# Customize the plot\n",
    "plt.title('Number of Complient IDs Booked Per Month')\n",
    "plt.xlabel('Month')# X-Axis\n",
    "plt.ylabel('Number of Complient IDs')\n",
    "plt.xticks(rotation=45)\n",
    "plt.tight_layout()\n",
    "\n",
    "# Show the plotw\n",
    "plt.show()"
   ]
  },
  {
   "cell_type": "code",
   "execution_count": 37,
   "id": "7749dfa1",
   "metadata": {},
   "outputs": [
    {
     "data": {
      "image/png": "[encoded data removed]",
      "text/plain": [
       "<Figure size 720x432 with 1 Axes>"
      ]
     },
     "metadata": {
      "needs_background": "light"
     },
     "output_type": "display_data"
    }
   ],
   "source": [
    "# We Can Also Analysis which Year the company get the Higher Compliant\n",
    "df[\"Year\"] =pd.to_datetime(df['Date sent to company']).dt.strftime(\"%Y\")\n",
    "monthly_counts = df.groupby('Year')['Complaint ID'].count()\n",
    "\n",
    "# Plot the data\n",
    "plt.figure(figsize=(10, 6))\n",
    "monthly_counts.plot(kind='bar')\n",
    "\n",
    "# Customize the plot\n",
    "plt.title('Number of Complient IDs Booked Every Year')\n",
    "plt.xlabel('Month')# X-Axis\n",
    "plt.ylabel('Number of Complient IDs')\n",
    "plt.xticks(rotation=45)\n",
    "plt.tight_layout()\n",
    "\n",
    "# Show the plotw\n",
    "plt.show()"
   ]
  },
  {
   "cell_type": "markdown",
   "id": "8b932857",
   "metadata": {},
   "source": [
    "# Question 2"
   ]
  },
  {
   "cell_type": "markdown",
   "id": "06112a78",
   "metadata": {},
   "source": [
    "# Given an unsorted array of integers, find the length of the longest continuous increasing subsequence (subarray). "
   ]
  },
  {
   "cell_type": "code",
   "execution_count": 24,
   "id": "267b9805",
   "metadata": {},
   "outputs": [],
   "source": [
    "def find_length(nums):\n",
    "    if not nums:\n",
    "        return 0\n",
    "    max_length = 1\n",
    "    current_length = 1\n",
    "    for i in range(1, len(nums)):\n",
    "        if nums[i] > nums[i - 1]:\n",
    "            current_length += 1\n",
    "        else:\n",
    "            if current_length > max_length:\n",
    "                max_length = current_length\n",
    "            current_length = 1\n",
    "    if current_length > max_length:\n",
    "        max_length = current_length\n",
    "    \n",
    "    return max_length"
   ]
  },
  {
   "cell_type": "code",
   "execution_count": 25,
   "id": "c4ddaf97",
   "metadata": {},
   "outputs": [
    {
     "data": {
      "text/plain": [
       "3"
      ]
     },
     "execution_count": 25,
     "metadata": {},
     "output_type": "execute_result"
    }
   ],
   "source": [
    "find_length([1, 3, 5, 4, 7])# Example One"
   ]
  },
  {
   "cell_type": "code",
   "execution_count": 26,
   "id": "0998df05",
   "metadata": {},
   "outputs": [
    {
     "data": {
      "text/plain": [
       "1"
      ]
     },
     "execution_count": 26,
     "metadata": {},
     "output_type": "execute_result"
    }
   ],
   "source": [
    "find_length([2, 2, 2, 2, 2])#Example Two"
   ]
  },
  {
   "cell_type": "code",
   "execution_count": 27,
   "id": "e73bbaeb",
   "metadata": {},
   "outputs": [
    {
     "data": {
      "text/plain": [
       "4"
      ]
     },
     "execution_count": 27,
     "metadata": {},
     "output_type": "execute_result"
    }
   ],
   "source": [
    "find_length([1, 2, 7, 9, 2])# Some Extra example"
   ]
  },
  {
   "cell_type": "code",
   "execution_count": 28,
   "id": "314ed07d",
   "metadata": {},
   "outputs": [
    {
     "data": {
      "text/plain": [
       "7"
      ]
     },
     "execution_count": 28,
     "metadata": {},
     "output_type": "execute_result"
    }
   ],
   "source": [
    "find_length([3, 5, 10, 99, 452,567,890,345])# Another Example"
   ]
  },
  {
   "cell_type": "markdown",
   "id": "ad3f3b71",
   "metadata": {},
   "source": [
    "# Question 3"
   ]
  },
  {
   "cell_type": "markdown",
   "id": "9a544e1b",
   "metadata": {},
   "source": [
    "# Given a list of non negative integers, arrange them such that they form the largest number."
   ]
  },
  {
   "cell_type": "code",
   "execution_count": 29,
   "id": "899cd0c5",
   "metadata": {},
   "outputs": [],
   "source": [
    "def largestNumber(nums):\n",
    "    nums_str = list(map(str, nums))\n",
    "    nums_str.sort(key=lambda x: x*10, reverse=True)\n",
    "    if nums_str[0] == '0':\n",
    "        return '0'\n",
    "    return ''.join(nums_str)"
   ]
  },
  {
   "cell_type": "code",
   "execution_count": 30,
   "id": "1dde70f2",
   "metadata": {},
   "outputs": [
    {
     "data": {
      "text/plain": [
       "'210'"
      ]
     },
     "execution_count": 30,
     "metadata": {},
     "output_type": "execute_result"
    }
   ],
   "source": [
    "largestNumber([10, 2])"
   ]
  },
  {
   "cell_type": "code",
   "execution_count": 31,
   "id": "5d6220b1",
   "metadata": {},
   "outputs": [
    {
     "data": {
      "text/plain": [
       "'9835355535534330'"
      ]
     },
     "execution_count": 31,
     "metadata": {},
     "output_type": "execute_result"
    }
   ],
   "source": [
    "largestNumber([3, 30, 34, 5, 983,3555,355])"
   ]
  },
  {
   "cell_type": "code",
   "execution_count": 32,
   "id": "41f0984e",
   "metadata": {},
   "outputs": [
    {
     "data": {
      "text/plain": [
       "'9534330'"
      ]
     },
     "execution_count": 32,
     "metadata": {},
     "output_type": "execute_result"
    }
   ],
   "source": [
    "largestNumber([3, 30, 34, 5, 9])"
   ]
  },
  {
   "cell_type": "code",
   "execution_count": 33,
   "id": "cf8abb05",
   "metadata": {},
   "outputs": [
    {
     "data": {
      "text/plain": [
       "'88676553421'"
      ]
     },
     "execution_count": 33,
     "metadata": {},
     "output_type": "execute_result"
    }
   ],
   "source": [
    "largestNumber([1,2,34,55,676,88])"
   ]
  },
  {
   "cell_type": "markdown",
   "id": "a945c711",
   "metadata": {},
   "source": [
    "# Question 4"
   ]
  },
  {
   "cell_type": "markdown",
   "id": "23391547",
   "metadata": {},
   "source": [
    "# Store all the \"servlet-name\", and \"servlet-class\" to a csv file from the attached sample_json.json file using Python"
   ]
  },
  {
   "cell_type": "code",
   "execution_count": 34,
   "id": "ef80b1de",
   "metadata": {},
   "outputs": [],
   "source": [
    "import json\n",
    "import csv\n",
    "\n",
    "with open('DT A1 sample_json.json') as json_file:\n",
    "    data = json.load(json_file)\n",
    "\n",
    "with open('servlets.csv', mode='w', newline='') as csv_file:\n",
    "    writer = csv.writer(csv_file)\n",
    "    writer.writerow([\"servlet-name\", \"servlet-class\"])\n",
    "    for servlet in data[\"web-app\"][\"servlet\"]:\n",
    "        writer.writerow([servlet[\"servlet-name\"], servlet[\"servlet-class\"]])"
   ]
  },
  {
   "cell_type": "code",
   "execution_count": 38,
   "id": "1c9c2942",
   "metadata": {},
   "outputs": [
    {
     "data": {
      "text/html": [
       "<div>\n",
       "<style scoped>\n",
       "    .dataframe tbody tr th:only-of-type {\n",
       "        vertical-align: middle;\n",
       "    }\n",
       "\n",
       "    .dataframe tbody tr th {\n",
       "        vertical-align: top;\n",
       "    }\n",
       "\n",
       "    .dataframe thead th {\n",
       "        text-align: right;\n",
       "    }\n",
       "</style>\n",
       "<table border=\"1\" class=\"dataframe\">\n",
       "  <thead>\n",
       "    <tr style=\"text-align: right;\">\n",
       "      <th></th>\n",
       "      <th>servlet-name</th>\n",
       "      <th>servlet-class</th>\n",
       "    </tr>\n",
       "  </thead>\n",
       "  <tbody>\n",
       "    <tr>\n",
       "      <th>0</th>\n",
       "      <td>cofaxCDS</td>\n",
       "      <td>org.cofax.cds.CDSServlet</td>\n",
       "    </tr>\n",
       "    <tr>\n",
       "      <th>1</th>\n",
       "      <td>cofaxEmail</td>\n",
       "      <td>org.cofax.cds.EmailServlet</td>\n",
       "    </tr>\n",
       "    <tr>\n",
       "      <th>2</th>\n",
       "      <td>cofaxAdmin</td>\n",
       "      <td>org.cofax.cds.AdminServlet</td>\n",
       "    </tr>\n",
       "    <tr>\n",
       "      <th>3</th>\n",
       "      <td>fileServlet</td>\n",
       "      <td>org.cofax.cds.FileServlet</td>\n",
       "    </tr>\n",
       "    <tr>\n",
       "      <th>4</th>\n",
       "      <td>cofaxTools</td>\n",
       "      <td>org.cofax.cms.CofaxToolsServlet</td>\n",
       "    </tr>\n",
       "  </tbody>\n",
       "</table>\n",
       "</div>"
      ],
      "text/plain": [
       "  servlet-name                    servlet-class\n",
       "0     cofaxCDS         org.cofax.cds.CDSServlet\n",
       "1   cofaxEmail       org.cofax.cds.EmailServlet\n",
       "2   cofaxAdmin       org.cofax.cds.AdminServlet\n",
       "3  fileServlet        org.cofax.cds.FileServlet\n",
       "4   cofaxTools  org.cofax.cms.CofaxToolsServlet"
      ]
     },
     "execution_count": 38,
     "metadata": {},
     "output_type": "execute_result"
    }
   ],
   "source": [
    "#Reading the csv file to view the data\n",
    "data=pd.read_csv(\"servlets.csv\")\n",
    "data"
   ]
  }
 ],
 "metadata": {
  "kernelspec": {
   "display_name": "Python 3 (ipykernel)",
   "language": "python",
   "name": "python3"
  },
  "language_info": {
   "codemirror_mode": {
    "name": "ipython",
    "version": 3
   },
   "file_extension": ".py",
   "mimetype": "text/x-python",
   "name": "python",
   "nbconvert_exporter": "python",
   "pygments_lexer": "ipython3",
   "version": "3.9.12"
  }
 },
 "nbformat": 4,
 "nbformat_minor": 5
}
